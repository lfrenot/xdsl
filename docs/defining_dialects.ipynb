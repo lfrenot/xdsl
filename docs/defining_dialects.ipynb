{
 "cells": [
  {
   "cell_type": "markdown",
   "metadata": {},
   "source": [
    "# Defining dialects with PyRDL\n",
    "\n",
    "The PyRDL Python DSL is the intended way to define operations.\n",
    "It allows to define operations directly as Python code, without relying on generating code.\n",
    "It generates the operation verifiers and accessors through the use of decorators,\n",
    "and also allows to export the attribute and operations as IRDL programs.\n",
    "It is also type-safe, which allows its use with typing tools such as `pyright`.\n",
    "\n",
    "This notebook shows in details all of the different features of PyRDL.\n",
    "\n",
    "## Defining attributes\n",
    "\n",
    "Attributes are defined in PyRDL by subclassing either the `Data` or\n",
    "`ParametrizedAttribute` class with a `irdl_attr_definition` decorator.\n",
    "By convention, type class names are suffixed with `Type`, and attribute\n",
    "with `Attr`.\n",
    "\n",
    "`ParametrizedAttribute` is the preffered way to define attributes, though it is\n",
    "sometimes necessary to use `Data`. The difference between the two classes is\n",
    "that a `ParametrizedAttribute` attribute has a tuple of `Attribute` as\n",
    "parameters, while a `Data` attribute as an arbitrary Python object as parameter.\n",
    "\n",
    "Compared to MLIR, types are `Attribute`, and any attribute that also subclass\n",
    "`TypeAttribute` is defining a type.\n",
    "\n",
    "Here is an example of a pair type definition:"
   ]
  },
  {
   "cell_type": "code",
   "execution_count": 1,
   "metadata": {},
   "outputs": [
    {
     "name": "stdout",
     "output_type": "stream",
     "text": [
      "!test.pair<i32, i64>\n"
     ]
    }
   ],
   "source": [
    "from xdsl.irdl import *\n",
    "from xdsl.ir import *\n",
    "from xdsl.dialects.builtin import *\n",
    "\n",
    "@irdl_attr_definition\n",
    "class PairType(ParametrizedAttribute, TypeAttribute):\n",
    "    name = \"test.pair\"\n",
    "\n",
    "    left_type: ParameterDef[Attribute]\n",
    "    right_type: ParameterDef[Attribute]\n",
    "\n",
    "print(PairType([i32, i64]))"
   ]
  },
  {
   "cell_type": "markdown",
   "metadata": {},
   "source": [
    "### Attribute name\n",
    "\n",
    "Each attribute definition should have a unique name that has the dialect\n",
    "name as prefix. For example, `test.pair` is a valid name for a pair type\n",
    "or attribute in the `test` dialect.\n",
    "\n",
    "Names are defined by overriding the `name` class field. For example, the\n",
    "`test.unit` attribute is defined as:"
   ]
  },
  {
   "cell_type": "code",
   "execution_count": 2,
   "metadata": {},
   "outputs": [
    {
     "name": "stdout",
     "output_type": "stream",
     "text": [
      "#test.unit\n"
     ]
    }
   ],
   "source": [
    "from xdsl.irdl import *\n",
    "from xdsl.ir import *\n",
    "\n",
    "@irdl_attr_definition\n",
    "class UnitAttr(ParametrizedAttribute):\n",
    "    \"\"\"An attribute with no parameters.\"\"\"\n",
    "    name = \"test.unit\"\n",
    "\n",
    "print(UnitAttr([]))"
   ]
  },
  {
   "cell_type": "markdown",
   "metadata": {},
   "source": [
    "### Attribute parameters\n",
    "\n",
    "Attribute parameters are defined differently for `Data` and `ParametrizedAttribute` definitions."
   ]
  },
  {
   "cell_type": "markdown",
   "metadata": {},
   "source": [
    "#### `ParametrizedAttribute` parameters\n",
    "\n",
    "`ParametrizedAttribute` parameters are defined using the `ParameterDef` class.\n",
    "The `ParameterDef` class takes as generic argument a PyRDL constraint, which\n",
    "will check that the parameter is valid at the attribute creation. The parameters\n",
    "can be accessed with the `parameter` field, or can be directly accessed using the \n",
    "field name.\n",
    "\n",
    "Here is an example of a complex attribute with two `IntegerAttr` parameters."
   ]
  },
  {
   "cell_type": "code",
   "execution_count": 55,
   "metadata": {},
   "outputs": [
    {
     "name": "stdout",
     "output_type": "stream",
     "text": [
      "attribute: #test.complex<4 : i32, -2 : i32>\n",
      "real: 4 : i32\n",
      "imaginary: -2 : i32\n",
      "number parameters: 2\n"
     ]
    }
   ],
   "source": [
    "from xdsl.irdl import *\n",
    "from xdsl.ir import *\n",
    "from xdsl.dialects.builtin import *\n",
    "\n",
    "@irdl_attr_definition\n",
    "class ComplexAttr(ParametrizedAttribute):\n",
    "    name = \"test.complex\"\n",
    "\n",
    "    real: ParameterDef[IntegerAttr]\n",
    "    imaginary: ParameterDef[IntegerAttr]\n",
    "\n",
    "attr = ComplexAttr([IntegerAttr(4, i32), IntegerAttr(-2, i32)])\n",
    "print(\"attribute:\", attr)\n",
    "print(\"real:\", attr.real)\n",
    "print(\"imaginary:\", attr.imaginary)\n",
    "print(\"number parameters:\", len(attr.parameters))\n"
   ]
  },
  {
   "cell_type": "markdown",
   "metadata": {},
   "source": [
    "#### `Data` parameters\n",
    "\n",
    "`Data` parameters are defined with the generic parameter of the `Data` class.\n",
    "The parameter type should be a `python` class, and is allowed to be a generic class.\n",
    "The parameter can be accessed with the `data` field.\n",
    "\n",
    "For instance, here is the definition of a string data attribute:"
   ]
  },
  {
   "cell_type": "code",
   "execution_count": 56,
   "metadata": {},
   "outputs": [
    {
     "name": "stdout",
     "output_type": "stream",
     "text": [
      "attribute: #test.string<\"hello\">\n",
      "parameter: hello\n"
     ]
    }
   ],
   "source": [
    "from xdsl.irdl import *\n",
    "from xdsl.ir import *\n",
    "from xdsl.parser import *\n",
    "from xdsl.printer import *\n",
    "\n",
    "T = TypeVar(\"T\")\n",
    "\n",
    "@irdl_attr_definition\n",
    "class StringAttr(Data[list[T]]):\n",
    "    name = \"test.string\"\n",
    "\n",
    "    @classmethod\n",
    "    def parse_parameter(cls, parser: AttrParser) -> str:\n",
    "        parser.parse_punctuation(\"<\")\n",
    "        param = parser.parse_str_literal()\n",
    "        parser.parse_punctuation(\">\")\n",
    "        return param\n",
    "\n",
    "    def print_parameter(self, printer: Printer) -> None:\n",
    "        printer.print('<\"', self.data , '\">')\n",
    "\n",
    "print(\"attribute:\", StringAttr(\"hello\"))\n",
    "print(\"parameter:\", StringAttr(\"hello\").data)"
   ]
  },
  {
   "cell_type": "markdown",
   "metadata": {},
   "source": [
    "### Printing and Parsing\n",
    "\n",
    "Parsing and printing methods are defined differently for `Data` and `ParametrizedAttribute` definitions.\n",
    "\n",
    "#### `ParametrizedAttribute` attributes\n",
    "\n",
    "`ParametrizedAttribute` have defaults parser/printer methods that is parsing\n",
    "all parameters one by one, delimited by a comma. An attribute definition can\n",
    "override these methods by defining `parse_parameters` and `print_parameters`\n",
    "methods:"
   ]
  },
  {
   "cell_type": "code",
   "execution_count": 35,
   "metadata": {},
   "outputs": [
    {
     "name": "stdout",
     "output_type": "stream",
     "text": [
      "#test.complex<4 : i32, -2 : i32>\n"
     ]
    }
   ],
   "source": [
    "from xdsl.irdl import *\n",
    "from xdsl.ir import *\n",
    "from xdsl.dialects.builtin import *\n",
    "\n",
    "@irdl_attr_definition\n",
    "class ComplexAttr(ParametrizedAttribute):\n",
    "    name = \"test.complex\"\n",
    "\n",
    "    real: ParameterDef[IntegerAttr]\n",
    "    imaginary: ParameterDef[IntegerAttr]\n",
    "\n",
    "    @classmethod\n",
    "    def parse_parameters(cls, parser: AttrParser) -> list[Attribute]:\n",
    "        parser.parse_punctuation(\"<\")\n",
    "        real = parser.parse_attribute()\n",
    "        parser.parse_punctuation(\",\")\n",
    "        imaginary = parser.parse_attribute()\n",
    "        parser.parse_punctuation(\">\")\n",
    "        return [real, imaginary]\n",
    "\n",
    "    def print_parameters(self, printer: Printer) -> None:\n",
    "        printer.print(\"<\")\n",
    "        printer.print_attribute(self.real)\n",
    "        printer.print(\", \")\n",
    "        printer.print_attribute(self.imaginary)\n",
    "        printer.print(\">\")\n",
    "\n",
    "ctx = MLContext()\n",
    "ctx.load_dialect(Builtin)\n",
    "ctx.load_attr(ComplexAttr)\n",
    "\n",
    "attr = Parser(ctx, \"#test.complex<4 : i32, -2 : i32>\").parse_attribute()\n",
    "print(attr)"
   ]
  },
  {
   "cell_type": "markdown",
   "metadata": {},
   "source": [
    "#### `Data` attributes\n",
    "\n",
    "`Data` attributes are required to define printing and parsing methods,\n",
    "as they rely on arbitrary Python objects. A `Data` definition uses the\n",
    "`parse_parameter` and `print_parameter` methods to print and parse\n",
    "its parameter:"
   ]
  },
  {
   "cell_type": "code",
   "execution_count": 36,
   "metadata": {},
   "outputs": [
    {
     "name": "stdout",
     "output_type": "stream",
     "text": [
      "#test.string<\"foobar\">\n"
     ]
    }
   ],
   "source": [
    "from xdsl.irdl import *\n",
    "from xdsl.ir import *\n",
    "from xdsl.dialects.builtin import *\n",
    "\n",
    "@irdl_attr_definition\n",
    "class StringAttr(Data[str]):\n",
    "    name = \"test.string\"\n",
    "\n",
    "    @classmethod\n",
    "    def parse_parameter(cls, parser: AttrParser) -> str:\n",
    "        parser.parse_punctuation(\"<\")\n",
    "        param = parser.parse_str_literal()\n",
    "        parser.parse_punctuation(\">\")\n",
    "        return param\n",
    "\n",
    "    def print_parameter(self, printer: Printer) -> None:\n",
    "        printer.print('<\"', self.data , '\">')\n",
    "\n",
    "ctx = MLContext()\n",
    "ctx.load_dialect(Builtin)\n",
    "ctx.load_attr(StringAttr)\n",
    "\n",
    "attr = Parser(ctx, '#test.string<\"foobar\">').parse_attribute()\n",
    "print(attr)"
   ]
  },
  {
   "cell_type": "markdown",
   "metadata": {},
   "source": [
    "### Additional verifiers\n",
    "\n",
    "`ParametrizedAttribute` and `Data` can optionally define a verifier that will\n",
    "be called at the attribute creation time. It is defined with the `_verify`\n",
    "method.\n",
    "\n",
    "For `ParametrizedAttribute`s, this method is called after the PyRDL constraints\n",
    "that each parameter has."
   ]
  },
  {
   "cell_type": "code",
   "execution_count": 57,
   "metadata": {},
   "outputs": [
    {
     "name": "stdout",
     "output_type": "stream",
     "text": [
      "#test.even_string<\"even\">\n",
      "String length must be even\n"
     ]
    }
   ],
   "source": [
    "from xdsl.irdl import *\n",
    "from xdsl.ir import *\n",
    "from xdsl.parser import *\n",
    "from xdsl.printer import *\n",
    "\n",
    "T = TypeVar(\"T\")\n",
    "\n",
    "@irdl_attr_definition\n",
    "class EvenStringAttr(Data[list[T]]):\n",
    "    \"\"\"A string of even length\"\"\"\n",
    "    name = \"test.even_string\"\n",
    "\n",
    "    @classmethod\n",
    "    def parse_parameter(cls, parser: AttrParser) -> str:\n",
    "        parser.parse_punctuation(\"<\")\n",
    "        param = parser.parse_str_literal()\n",
    "        parser.parse_punctuation(\">\")\n",
    "        return param\n",
    "\n",
    "    def print_parameter(self, printer: Printer) -> None:\n",
    "        printer.print('<\"', self.data , '\">')\n",
    "\n",
    "    def _verify(self) -> None:\n",
    "        if len(self.data) % 2 != 0:\n",
    "            raise VerifyException(\"String length must be even\")\n",
    "\n",
    "print(EvenStringAttr(\"even\"))\n",
    "try:\n",
    "    EvenStringAttr(\"odd\")\n",
    "except VerifyException as e:\n",
    "    print(e)"
   ]
  },
  {
   "cell_type": "markdown",
   "metadata": {},
   "source": [
    "### Inheritance\n",
    "\n",
    "### Using generics\n",
    "\n",
    "## Defining operations\n",
    "\n",
    "### \n",
    "\n",
    "## Defining dialects\n",
    "\n",
    "## PyRDL constraints"
   ]
  },
  {
   "cell_type": "markdown",
   "metadata": {},
   "source": [
    "It allows to define operations directly as Python code, without relying on generating code. It is also type-safe, which allows its use with typing tools such as `pyright`.\n",
    "\n",
    "This notebook shows in details all of the different features of PyRDL, but can also be used as a tutorial.\n",
    "\n",
    "## Defining attributes\n",
    "\n",
    "Data / ParametrizedAttribute\n",
    "\n",
    "### Attribute name\n",
    "\n",
    "name = ...\n",
    "\n",
    "### Attribute parameters\n",
    "\n",
    "#### Data parameters\n",
    "\n",
    "#### Parametrized attr parameters\n",
    "\n",
    "## Defining operations\n",
    "\n",
    "### \n",
    "\n",
    "## Defining dialects\n",
    "\n",
    "## PyRDL constraints"
   ]
  },
  {
   "cell_type": "markdown",
   "metadata": {},
   "source": []
  },
  {
   "cell_type": "markdown",
   "metadata": {},
   "source": []
  }
 ],
 "metadata": {
  "kernelspec": {
   "display_name": "venv",
   "language": "python",
   "name": "python3"
  },
  "language_info": {
   "codemirror_mode": {
    "name": "ipython",
    "version": 3
   },
   "file_extension": ".py",
   "mimetype": "text/x-python",
   "name": "python",
   "nbconvert_exporter": "python",
   "pygments_lexer": "ipython3",
   "version": "3.11.5"
  }
 },
 "nbformat": 4,
 "nbformat_minor": 2
}
