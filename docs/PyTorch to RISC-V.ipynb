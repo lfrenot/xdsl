{
 "cells": [
  {
   "cell_type": "code",
   "execution_count": 1,
   "metadata": {},
   "outputs": [
    {
     "name": "stdout",
     "output_type": "stream",
     "text": [
      "Requirement already satisfied: torch in /Users/sasha/Developer/xdslproject/xdsl/venv/lib/python3.11/site-packages (2.1.2)\n",
      "Requirement already satisfied: filelock in /Users/sasha/Developer/xdslproject/xdsl/venv/lib/python3.11/site-packages (from torch) (3.13.1)\n",
      "Requirement already satisfied: typing-extensions in /Users/sasha/Developer/xdslproject/xdsl/venv/lib/python3.11/site-packages (from torch) (4.9.0)\n",
      "Requirement already satisfied: sympy in /Users/sasha/Developer/xdslproject/xdsl/venv/lib/python3.11/site-packages (from torch) (1.12)\n",
      "Requirement already satisfied: networkx in /Users/sasha/Developer/xdslproject/xdsl/venv/lib/python3.11/site-packages (from torch) (3.2.1)\n",
      "Requirement already satisfied: jinja2 in /Users/sasha/Developer/xdslproject/xdsl/venv/lib/python3.11/site-packages (from torch) (3.1.3)\n",
      "Requirement already satisfied: fsspec in /Users/sasha/Developer/xdslproject/xdsl/venv/lib/python3.11/site-packages (from torch) (2023.12.2)\n",
      "Requirement already satisfied: MarkupSafe>=2.0 in /Users/sasha/Developer/xdslproject/xdsl/venv/lib/python3.11/site-packages (from jinja2->torch) (2.1.3)\n",
      "Requirement already satisfied: mpmath>=0.19 in /Users/sasha/Developer/xdslproject/xdsl/venv/lib/python3.11/site-packages (from sympy->torch) (1.3.0)\n",
      "Note: you may need to restart the kernel to use updated packages.\n"
     ]
    }
   ],
   "source": [
    "# Install PyTorch to build the network below\n",
    "%pip install torch"
   ]
  },
  {
   "cell_type": "code",
   "execution_count": 4,
   "metadata": {},
   "outputs": [
    {
     "name": "stdout",
     "output_type": "stream",
     "text": [
      "Requirement already satisfied: shark-turbine in /Users/sasha/Developer/xdslproject/xdsl/venv/lib/python3.11/site-packages (0.9.3)\n",
      "Requirement already satisfied: numpy in /Users/sasha/Developer/xdslproject/xdsl/venv/lib/python3.11/site-packages (from shark-turbine) (1.26.3)\n",
      "Requirement already satisfied: iree-compiler>=20231218.742 in /Users/sasha/Developer/xdslproject/xdsl/venv/lib/python3.11/site-packages (from shark-turbine) (20231218.742)\n",
      "Requirement already satisfied: iree-runtime>=20231218.742 in /Users/sasha/Developer/xdslproject/xdsl/venv/lib/python3.11/site-packages (from shark-turbine) (20231218.742)\n",
      "Requirement already satisfied: torch>=2.1.0 in /Users/sasha/Developer/xdslproject/xdsl/venv/lib/python3.11/site-packages (from shark-turbine) (2.1.2)\n",
      "Requirement already satisfied: PyYAML in /Users/sasha/Developer/xdslproject/xdsl/venv/lib/python3.11/site-packages (from iree-compiler>=20231218.742->shark-turbine) (6.0.1)\n",
      "Requirement already satisfied: filelock in /Users/sasha/Developer/xdslproject/xdsl/venv/lib/python3.11/site-packages (from torch>=2.1.0->shark-turbine) (3.13.1)\n",
      "Requirement already satisfied: typing-extensions in /Users/sasha/Developer/xdslproject/xdsl/venv/lib/python3.11/site-packages (from torch>=2.1.0->shark-turbine) (4.9.0)\n",
      "Requirement already satisfied: sympy in /Users/sasha/Developer/xdslproject/xdsl/venv/lib/python3.11/site-packages (from torch>=2.1.0->shark-turbine) (1.12)\n",
      "Requirement already satisfied: networkx in /Users/sasha/Developer/xdslproject/xdsl/venv/lib/python3.11/site-packages (from torch>=2.1.0->shark-turbine) (3.2.1)\n",
      "Requirement already satisfied: jinja2 in /Users/sasha/Developer/xdslproject/xdsl/venv/lib/python3.11/site-packages (from torch>=2.1.0->shark-turbine) (3.1.3)\n",
      "Requirement already satisfied: fsspec in /Users/sasha/Developer/xdslproject/xdsl/venv/lib/python3.11/site-packages (from torch>=2.1.0->shark-turbine) (2023.12.2)\n",
      "Requirement already satisfied: MarkupSafe>=2.0 in /Users/sasha/Developer/xdslproject/xdsl/venv/lib/python3.11/site-packages (from jinja2->torch>=2.1.0->shark-turbine) (2.1.3)\n",
      "Requirement already satisfied: mpmath>=0.19 in /Users/sasha/Developer/xdslproject/xdsl/venv/lib/python3.11/site-packages (from sympy->torch>=2.1.0->shark-turbine) (1.3.0)\n",
      "Note: you may need to restart the kernel to use updated packages.\n"
     ]
    }
   ],
   "source": [
    "# Install shark-turbine to convert torch to linalg\n",
    "%pip install shark-turbine"
   ]
  },
  {
   "cell_type": "code",
   "execution_count": 5,
   "metadata": {},
   "outputs": [
    {
     "name": "stdout",
     "output_type": "stream",
     "text": [
      "Input Tensor: tensor([ 0.2244, -0.2551, -0.3616], dtype=torch.float64)\n",
      "Output Tensor: tensor([1.2244, 1.7449, 2.6384], dtype=torch.float64, grad_fn=<AddBackward0>)\n"
     ]
    }
   ],
   "source": [
    "import torch\n",
    "import torch.nn as nn\n",
    "\n",
    "\n",
    "class MyAdd(nn.Module):\n",
    "    def __init__(self):\n",
    "        super(MyAdd, self).__init__()\n",
    "\n",
    "        self.add_values = nn.Parameter(torch.DoubleTensor([1.0, 2.0, 3.0]))\n",
    "\n",
    "    def forward(self, x):\n",
    "        # Ensure the input tensor is of double precision\n",
    "        x = x.double()\n",
    "\n",
    "        # Add the constant values to the input tensor\n",
    "        result = x + self.add_values\n",
    "\n",
    "        return result\n",
    "\n",
    "# Example usage\n",
    "input_tensor = torch.randn(3, dtype=torch.float64)  # Replace with your input tensor\n",
    "my_add_module = MyAdd()\n",
    "\n",
    "output_tensor = my_add_module(input_tensor)\n",
    "print(\"Input Tensor:\", input_tensor)\n",
    "print(\"Output Tensor:\", output_tensor)"
   ]
  },
  {
   "cell_type": "code",
   "execution_count": 19,
   "metadata": {},
   "outputs": [],
   "source": [
    "import shark_turbine.aot as aot\n",
    "from iree.compiler import compile_str\n",
    "\n",
    "example_x = torch.empty((3,), dtype=torch.float64)\n",
    "exported = aot.export(my_add_module, example_x)\n",
    "with open(\"add_torch.mlir\", \"w\") as f:\n",
    "  exported.mlir_module.print(file=f)"
   ]
  },
  {
   "cell_type": "code",
   "execution_count": 20,
   "metadata": {},
   "outputs": [],
   "source": [
    "!iree-compile --iree-input-type=torch --compile-to=input add_torch.mlir > add_linalg.mlir"
   ]
  },
  {
   "cell_type": "code",
   "execution_count": null,
   "metadata": {},
   "outputs": [],
   "source": []
  }
 ],
 "metadata": {
  "kernelspec": {
   "display_name": "venv",
   "language": "python",
   "name": "venv"
  },
  "language_info": {
   "codemirror_mode": {
    "name": "ipython",
    "version": 3
   },
   "file_extension": ".py",
   "mimetype": "text/x-python",
   "name": "python",
   "nbconvert_exporter": "python",
   "pygments_lexer": "ipython3",
   "version": "3.11.6"
  }
 },
 "nbformat": 4,
 "nbformat_minor": 2
}
